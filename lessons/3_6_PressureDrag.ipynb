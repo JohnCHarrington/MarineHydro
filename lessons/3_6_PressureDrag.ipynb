{
 "cells": [
  {
   "cell_type": "code",
   "execution_count": 1,
   "metadata": {},
   "outputs": [
    {
     "data": {
      "text/html": [
       "<link href='http://fonts.googleapis.com/css?family=Fenix' rel='stylesheet' type='text/css'>\n",
       "<link href='http://fonts.googleapis.com/css?family=Alegreya+Sans:100,300,400,500,700,800,900,100italic,300italic,400italic,500italic,700italic,800italic,900italic' rel='stylesheet' type='text/css'>\n",
       "<link href='http://fonts.googleapis.com/css?family=Source+Code+Pro:300,400' rel='stylesheet' type='text/css'>\n",
       "<style>\n",
       "    @font-face {\n",
       "        font-family: \"Computer Modern\";\n",
       "        src: url('http://mirrors.ctan.org/fonts/cm-unicode/fonts/otf/cmunss.otf');\n",
       "    }\n",
       "    h1 {\n",
       "        font-family: 'Alegreya Sans', sans-serif;\n",
       "    }\n",
       "    h2 {\n",
       "        font-family: 'Fenix', serif;\n",
       "    }\n",
       "    h3{\n",
       "\t\tfont-family: 'Fenix', serif;\n",
       "        margin-top:12px;\n",
       "        margin-bottom: 3px;\n",
       "       }\n",
       "\th4{\n",
       "\t\tfont-family: 'Fenix', serif;\n",
       "       }\n",
       "    h5 {\n",
       "        font-family: 'Alegreya Sans', sans-serif;\n",
       "    }\n",
       "/*    .CodeMirror{\n",
       "            font-family: \"Source Code Pro\";\n",
       "\t\t\tfont-size: 90%;\n",
       "    }*/\n",
       "/*    .prompt{\n",
       "        display: None;\n",
       "    }*/\n",
       "    .text_cell_render h1 {\n",
       "        font-weight: 200;\n",
       "        font-size: 50pt;\n",
       "\t\tline-height: 100%;\n",
       "        color:#CD2305;\n",
       "        margin-bottom: 0.5em;\n",
       "        margin-top: 0.5em;\n",
       "        display: block;\n",
       "    }\n",
       "    .text_cell_render h5 {\n",
       "        font-weight: 300;\n",
       "        font-size: 16pt;\n",
       "        color: #CD2305;\n",
       "        font-style: italic;\n",
       "        margin-bottom: .5em;\n",
       "        margin-top: 0.5em;\n",
       "        display: block;\n",
       "    }\n",
       "\n",
       "    .warning{\n",
       "        color: rgb( 240, 20, 20 )\n",
       "        }\n",
       "</style>\n",
       "<style>\n",
       "  img[alt=short] { height: 200px; }\n",
       "  img[alt=medium] { height: 300px; }\n",
       "</style>\n",
       "<script>\n",
       "    MathJax.Hub.Config({\n",
       "                        TeX: {\n",
       "                           extensions: [\"AMSmath.js\"],\n",
       "                           equationNumbers: { autoNumber: \"AMS\", useLabelIds: true}\n",
       "                           },\n",
       "                tex2jax: {\n",
       "                    inlineMath: [ ['$','$'], [\"\\\\(\",\"\\\\)\"] ],\n",
       "                    displayMath: [ ['$$','$$'], [\"\\\\[\",\"\\\\]\"] ]\n",
       "                },\n",
       "                displayAlign: 'center', // Change this to 'center' to center equations.\n",
       "                \"HTML-CSS\": {\n",
       "                    styles: {'.MathJax_Display': {\"margin\": 4}}\n",
       "                }\n",
       "        });\n",
       "</script>\n"
      ],
      "text/plain": [
       "<IPython.core.display.HTML object>"
      ]
     },
     "execution_count": 1,
     "metadata": {},
     "output_type": "execute_result"
    }
   ],
   "source": [
    "from IPython.core.display import HTML\n",
    "def css_styling():\n",
    "    styles = open('../styles/custom.css', 'r').read()\n",
    "    return HTML(styles)\n",
    "css_styling()"
   ]
  },
  {
   "cell_type": "markdown",
   "metadata": {},
   "source": [
    "# Linear panels and pressure drag\n",
    "\n",
    "In this final section we will enhance the vortex panel method using linear panels and develop a pressure drag model so that it can be applied to real engineering flows."
   ]
  },
  {
   "cell_type": "markdown",
   "metadata": {},
   "source": [
    "### Linear panels\n",
    "\n",
    "Up to this point, we've used panels with constant strength because they are simple and effective. Extending the method to use panels with linearly varying strength is only slightly more complex and much more accurate.\n",
    "\n",
    "![medium](resources\\panel_O2.png)\n",
    "\n",
    "We don't need to consider the detailed derivation (it is similar to the constant strength panels but with more terms). The important point is that the velocity function for a linearly varying strength panel can be written as\n",
    "\n",
    "$$\\vec u_i(x,y) = \\gamma_{i-1}(S)\\ \\vec f_i(x,y,-S)+\\gamma_i(S)\\ \\vec f_i(x,y,S)$$\n",
    "\n",
    "where $\\gamma_i(S)$ is the strength on the positive end of panel $i$, and $\\vec f_i(x,y,\\pm S)$ are two new influence functions. Just as with the constant-strength panel, the velocity depends __linearly__ on $\\gamma$, and for $N$ panels we have only $N$ unknowns. Therefore, we can construct an $N$ by $N$ linear system.\n",
    "\n",
    "---\n",
    "\n",
    "##### Quiz\n",
    "\n",
    "Approximately how many constant strength panels will we need to match the accuracy of $N$ linearly varying panels?\n",
    "\n",
    "1. $N$\n",
    "1. $2N$\n",
    "1. $N^2$\n",
    "\n",
    "\n",
    "---\n",
    "\n",
    "Lets test it out using our old friend the triangle and using `PanelArray.solve_gamma_O2` (thats a letter O, not a zero) to solve for the linearly varying strength on each panel. This function has exactly the same input arguments as `solve_gamma`, and the resulting panel array still works with `plot_flow`, `get_array`, etc.\n"
   ]
  },
  {
   "cell_type": "code",
   "execution_count": null,
   "metadata": {
    "collapsed": true
   },
   "outputs": [],
   "source": [
    "from matplotlib import pyplot\n",
    "%matplotlib inline\n",
    "import numpy\n",
    "import VortexPanel as vp\n",
    "import BoundaryLayer as bl"
   ]
  },
  {
   "cell_type": "code",
   "execution_count": null,
   "metadata": {},
   "outputs": [],
   "source": [
    "triangle = vp.make_polygon(N=12,sides=3)\n",
    "%timeit triangle.solve_gamma()     ## O1\n",
    "triangle.plot_flow(vmax=3)\n",
    "\n",
    "triangle = vp.make_polygon(N=12,sides=3)\n",
    "%timeit triangle.solve_gamma_O2()  ## O2 !!\n",
    "triangle.plot_flow(vmax=3)\n",
    "\n",
    "pyplot.show()"
   ]
  },
  {
   "cell_type": "markdown",
   "metadata": {},
   "source": [
    "As you can see, the panels with linearly varying strength give a __much__ better result for a given $N$. This is because the error between the true analytic $\\gamma(s)$ and a piecewise constant approximation is $\\epsilon\\sim 1/N$, whereas it is $\\epsilon\\sim (1/N)^2$ for a piecewise linear approximation. Because of the exponent, this is called _second-order_ or _O(2)_ error. \n",
    "\n",
    "This is worth saying again: We are __massively__ reducing the error without solving __any__ extra equations!\n",
    "\n",
    "##### Numerical fundamental: O(2)\n",
    "##### Second-order methods are unreasonably effective\n",
    "\n",
    "This improvement is fairly general and second-order methods (or greater) should be used whenever possible. For example, the trapezoidal rule is a second order method. Increasing beyond O(2) is possible, but often incurs large additional complexity and computational effort.\n",
    "\n",
    "Also note that I've used `%timeit` in the code above to time how long this takes to run. For the same $N$, the O(2) method is less than twice as expensive. For the same accuracy, say $N=12$ vs $N=144$ for the O(1), it is around an order of magnitude faster. \n",
    "\n",
    "---"
   ]
  },
  {
   "cell_type": "markdown",
   "metadata": {},
   "source": [
    "### Bernoulli equation\n",
    "\n",
    "Now that we've turbo-charged the solver, lets use this to find the drag!\n",
    "\n",
    "The first step is to compute the pressure, $P$, which we can get using the Bernoulli equation\n",
    "\n",
    "$$ P+\\frac 12 \\rho\\ |u|^2-\\rho gz = B $$\n",
    "\n",
    "where $\\rho$ is the density, $\\rho gz$ is the head, and $B$ is the Bernoulli coefficient. As in the rest of this course, will assume no hydrostatic pressure.\n",
    "\n",
    "To avoid the ambiguity of the Bernoulli coefficient, we typically work with the pressure coefficient $c_p$\n",
    "\n",
    "$$c_p = \\frac{P-P_\\infty}{\\frac 12\\rho\\ U^2}$$\n",
    "instead of the pressure."
   ]
  },
  {
   "cell_type": "markdown",
   "metadata": {},
   "source": [
    "##### Quiz\n",
    "\n",
    "Which is a correct simplification of the pressure coefficient?\n",
    "\n",
    "1. $c_p = \\frac 12 |u|^2$\n",
    "1. $c_p = 1-|u|^2/U^2$\n",
    "1. $c_p = 1-P/P_\\infty$"
   ]
  },
  {
   "cell_type": "markdown",
   "metadata": {},
   "source": [
    "---\n",
    "So lets use this to plot $c_p(s)$ on the surface of a circle in a uniform flow:"
   ]
  },
  {
   "cell_type": "code",
   "execution_count": null,
   "metadata": {},
   "outputs": [],
   "source": [
    "circle = vp.make_circle(N=32)  # set-up geom\n",
    "s = circle.distance()\n",
    "\n",
    "circle.solve_gamma()           # find gamma O(1)\n",
    "pyplot.plot(s,1-circle.get_array('gamma')**2, label='O(1)')\n",
    "\n",
    "circle.solve_gamma_O2()        # find gamma O(2)\n",
    "pyplot.plot(s,1-circle.get_array('gamma')**2, label='O(2)')\n",
    "\n",
    "pyplot.plot(s,2*numpy.cos(2.*s)-1, label='analytic')\n",
    "pyplot.xlabel(r'$s/R$', fontsize=18)\n",
    "pyplot.ylabel(r'$c_p$', fontsize=18)\n",
    "pyplot.legend()"
   ]
  },
  {
   "cell_type": "markdown",
   "metadata": {},
   "source": [
    "Where we've use $|u/U|^2=\\tilde\\gamma^2=\\gamma^2$ on the body (yet again), and threw in another comparison between the solvers for good measure. \n",
    "\n",
    "\n",
    "Notice the stagnation pressure coefficient is one by definition, and that $c_p$ is symmetric on the front and back of the body."
   ]
  },
  {
   "cell_type": "markdown",
   "metadata": {},
   "source": [
    "---\n",
    "\n",
    "## Pressure force\n",
    "\n",
    "Once we have the surface pressure we can use it to determine the pressure force on the body, as\n",
    "\n",
    "$$ \\vec F_p = -\\oint p \\hat n da $$\n",
    "\n",
    "where $\\oint da$ is the integral over the body surface, and $\\hat n$ is the normal vector to the surface. \n",
    "\n",
    "For instance, the lift coefficient is then:\n",
    "\n",
    "$$ C_L = \\frac{\\vec F_p \\cdot \\hat U_\\perp} { \\tfrac 12 \\rho U^2 A }  = \\frac{-\\oint p \\hat n \\cdot \\hat U_\\perp ds }{ \\tfrac 12 \\rho U^2 c } c= -\\frac{\\oint c_p (s_x\\cos\\alpha+s_y\\sin\\alpha) ds}{ c } $$\n",
    "\n",
    "where $c$ is the coord, $\\hat U_\\perp=\\cos\\alpha\\hat y-\\sin\\alpha\\hat x$ is the direction perpendicular to the free stream and $\\hat n=s_x\\hat y-s_y\\hat x$ as seen in the figure below:\n",
    "\n",
    "![short](resources/graphics6.png)\n",
    "\n",
    "Let's test is on the Jukowski foil..."
   ]
  },
  {
   "cell_type": "code",
   "execution_count": null,
   "metadata": {},
   "outputs": [],
   "source": [
    "def C_L(panels,alpha):\n",
    "    gamma, xc, S, sx, sy = panels.get_array('gamma','xc','S','sx','sy')\n",
    "    c = max(xc)-min(xc)\n",
    "    perp = sx*numpy.cos(alpha)+sy*numpy.sin(alpha)\n",
    "    return -sum((1-gamma**2)*2*S*perp)/c\n",
    "\n",
    "foil = vp.make_jukowski(N=32)\n",
    "foil.solve_gamma_O2(alpha=0.1,kutta=[(0,-1)])\n",
    "print(\"C_L = {:.3f}\".format(C_L(foil,alpha=0.1)))"
   ]
  },
  {
   "cell_type": "markdown",
   "metadata": {},
   "source": [
    "This function will give the same result for the __total__ lift as the circulation-based formula from notebook 3_3. However, when simulating the flow on multiple bodies, only the formula above can be applied to find the lift on each body individually.\n",
    "\n",
    "\n",
    "---\n",
    "\n",
    "Similarly, the (pressure) drag coefficient $C_P$ is:\n",
    "\n",
    "$$ C_P = \\frac{\\vec F_p \\cdot \\hat U_\\parallel} { \\tfrac 12 \\rho U^2 A } = \\frac{\\oint c_p (s_y\\cos\\alpha-s_x\\sin\\alpha) ds}{ t } $$\n",
    "\n",
    "where $t$ is the thickness and $\\hat U_\\parallel$ is the direction parallel to $\\vec U$. Let's test $C_P$ on the circle flow with $\\alpha=0$."
   ]
  },
  {
   "cell_type": "code",
   "execution_count": null,
   "metadata": {},
   "outputs": [],
   "source": [
    "def C_P(panels):\n",
    "    gamma,yc,sy,S = panels.get_array('gamma', 'yc', 'sy', 'S')\n",
    "    t = max(yc)-min(yc)\n",
    "    return sum((1-gamma**2)*sy*2*S)/t\n",
    "\n",
    "print(\"C_P = {:.16f}\".format(C_P(circle)))"
   ]
  },
  {
   "cell_type": "markdown",
   "metadata": {},
   "source": [
    "##### Quiz\n",
    "\n",
    "Why is the pressure drag equal to zero?\n",
    "\n",
    "1. The symmetric shape of the circle\n",
    "1. Potential flow\n",
    "1. Insufficient resolution\n",
    "---"
   ]
  },
  {
   "cell_type": "markdown",
   "metadata": {},
   "source": [
    "## Separated flow\n",
    "\n",
    "Here is a sketch of the pressure on a circular cylinder in three different flow conditions:\n",
    "\n",
    "![short](resources/graphics5.png)\n",
    "\n",
    "---\n",
    "\n",
    "We ran into D'Alembert's paradox earlier, which states that there is zero drag force in potential flow, regardless of the body shape. The symmetric pressure makes this unavoidable. \n",
    "\n",
    "The boundary layer in a real (viscous) fluid induces friction force. These forces tend to be small, but they lead to flow separation, after which the potential flow solution is completely invalid. Also note that the delayed separation in a turbulent boundary layer completely changes the wake pressure as well.\n",
    "\n",
    "\n",
    "##### Fluid fundamental:\n",
    "##### The pressure in the wake - and therefore the drag - is highly sensitive to separation\n",
    "\n",
    "\n",
    "Unfortunately, we can't use boundary layer theory to solve for the pressure (or anything else) after separation. We'll need another way to get the drag:\n",
    "\n",
    "---"
   ]
  },
  {
   "cell_type": "markdown",
   "metadata": {},
   "source": [
    "\n",
    "\n",
    "## Momentum deficit\n",
    "\n",
    "Instead of dealing with pressure, I prefer think of D'Alembert's paradox in terms of flow momentum. The momentum in the flow behind the circle is exactly the same as the momentum in front of the circle; therefore the drag is zero. \n",
    "\n",
    "##### Fluids fundamental:\n",
    "##### The wake momentum deficit is equal to the drag.\n",
    "\n",
    "Is there a way we can approximate the wake deficit using the tools we have?\n",
    "\n",
    "Lets assume the boundary layers separate from the body into a pair of **shear layers**, but maintain the same strength ($\\gamma$) as they were at the point of separation. We'll also assume that the distance between the shear layers ($w$) stays the same.\n",
    "\n",
    "![short](resources/shear_wake.png)\n",
    "\n",
    "The shear layers induce a wake deficit and therefore a drag. Alternatively, we can think about the change in momentum due to the continual growth of the vortex sheets in time:\n",
    "\n",
    "$$ D = \\rho \\frac{d}{dt}\\int_S y \\gamma ds $$\n",
    "\n",
    "Note: the real wake doesn't look like this. But these assumptions might be good enough to determine how the drag __scales__.\n",
    "\n",
    "---\n",
    "\n",
    "##### Quiz\n",
    "\n",
    "How does the drag induced by the shear layers in the sketch scale?\n",
    "\n",
    "1. $\\rho U^2 t$\n",
    "1. $\\rho \\gamma^2 w$\n",
    "1. $\\rho U^2 \\gamma $\n",
    "\n",
    "---\n",
    "\n",
    "Let's do a quick sanity check on this model to make sure we're happy with it:\n",
    "- The wider the wake, the greater the drag\n",
    "- The stronger the shear layers, the greater the drag\n",
    "- __Critically__ we can compute these values ($\\gamma$,$w$) using numerical boundary layer decomposition\n",
    "\n",
    "This is promising, but we'll need data to make a quantitative assessment of the model.\n",
    "\n",
    "---"
   ]
  },
  {
   "cell_type": "markdown",
   "metadata": {},
   "source": [
    "## Wake coefficient calibration\n",
    "\n",
    "Here is some data from Hoerner on the total drag coefficient of elliptical cylinders:"
   ]
  },
  {
   "cell_type": "code",
   "execution_count": null,
   "metadata": {},
   "outputs": [],
   "source": [
    "c_t = [1.27,1.67,2.06,3.06,3.39,4.03,4.73,8.15]\n",
    "CD = [0.919,0.718,0.604,0.438,0.408,0.342,0.324,0.267]\n",
    "pyplot.scatter(c_t,CD)\n",
    "pyplot.xlabel(r'$c/t$', fontsize=18)\n",
    "pyplot.ylabel(r'$C_D$', fontsize=18)"
   ]
  },
  {
   "cell_type": "markdown",
   "metadata": {},
   "source": [
    "To test (and potentialy calibrate) our simple wake deficit model against this data we first define a wake momentum coefficient \n",
    "$$C_\\gamma = \\frac {\\rho \\gamma^2 w}{\\rho U^2 t} = \\frac w t \\tilde\\gamma ^2$$\n",
    "Note that I've scaled the wake deficit estimate by $\\rho U^2 t$ so that we can compare it to $C_P$.\n",
    "\n",
    "Then `for` each $c/t$:\n",
    "1. `Solve` the flow, `split` the body, and `march` the boundary layer.\n",
    "1. Measure the predicted $\\gamma$ and $w$ at the separation point to determine $C_\\gamma$.\n",
    "1. Finally, plot $C_\\gamma$ against the experimental $C_D$ from Hoerner, giving:\n",
    "\n",
    "![medium](resources/pressure_drag.png)\n",
    "\n",
    "Despite simplicity of our wake model, the wake coefficient is almost perfectly correlated with the pressure drag! The equation for the line above is:\n",
    "\n",
    "$$ C_P = 0.343 C_\\gamma$$\n",
    "\n",
    "## Summary\n",
    "\n",
    "- A second order panel method is just as fast as the first order method, but produces significanly more accurate solutions.\n",
    "- The drag force on a given body can be obtained by predicting the separation conditions and computing $C_\\gamma$.\n",
    "\n",
    "---\n",
    "\n",
    "##### Quiz\n",
    "\n",
    "What do you think would be the fastest way to estimate forces in the early stages of the design process?\n",
    "\n",
    "1. Analytic potential flow theory\n",
    "1. Numerical boundary layer decomposition\n",
    "1. Navier-Stokes simulations (CFD)\n",
    "2. Experiments\n",
    "\n",
    "---\n"
   ]
  },
  {
   "cell_type": "markdown",
   "metadata": {},
   "source": [
    "##### Your turn #6\n",
    "\n",
    " - **Complete** the function `C_gamma` to determine the wake coefficient for a given array of panels using `solve_gamma_O2`\n",
    " - **Time** how long it takes for you to predict $C_P$ for $t/c$=`linspace(0.1,1.1,20)` using `%time` \n",
    " - **Plot and Compare ** your predictions to Hoerner's reported $C_D$ data."
   ]
  },
  {
   "cell_type": "markdown",
   "metadata": {},
   "source": [
    "---\n",
    "\n",
    "##### Solution #6\n"
   ]
  },
  {
   "cell_type": "code",
   "execution_count": null,
   "metadata": {
    "collapsed": true
   },
   "outputs": [],
   "source": [
    "def C_gamma(panels):\n",
    "    return # your code here"
   ]
  },
  {
   "cell_type": "code",
   "execution_count": null,
   "metadata": {},
   "outputs": [],
   "source": [
    "%time\n",
    "t_c = numpy.linspace(0.1,1.1,20)\n",
    "# your code here"
   ]
  },
  {
   "cell_type": "code",
   "execution_count": null,
   "metadata": {},
   "outputs": [],
   "source": [
    "c_t = [1.27,1.67,2.06,3.06,3.39,4.03,4.73,8.15]\n",
    "CD = [0.919,0.718,0.604,0.438,0.408,0.342,0.324,0.267]\n",
    "pyplot.scatter(c_t,CD,label='experimental C_D')\n",
    "\n",
    "# your code here\n",
    "\n",
    "pyplot.legend()\n",
    "pyplot.xlabel(r'$c/t$', fontsize=18)\n",
    "pyplot.ylabel(r'Drag', fontsize=18)"
   ]
  }
 ],
 "metadata": {
  "anaconda-cloud": {},
  "kernelspec": {
   "display_name": "Python [conda root]",
   "language": "python",
   "name": "conda-root-py"
  },
  "language_info": {
   "codemirror_mode": {
    "name": "ipython",
    "version": 3
   },
   "file_extension": ".py",
   "mimetype": "text/x-python",
   "name": "python",
   "nbconvert_exporter": "python",
   "pygments_lexer": "ipython3",
   "version": "3.5.2"
  },
  "latex_envs": {
   "LaTeX_envs_menu_present": true,
   "autocomplete": true,
   "bibliofile": "biblio.bib",
   "cite_by": "apalike",
   "current_citInitial": 1,
   "eqLabelWithNumbers": true,
   "eqNumInitial": 1,
   "hotkeys": {
    "equation": "Ctrl-E",
    "itemize": "Ctrl-I"
   },
   "labels_anchors": false,
   "latex_user_defs": false,
   "report_style_numbering": false,
   "user_envs_cfg": false
  },
  "toc": {
   "nav_menu": {},
   "number_sections": true,
   "sideBar": true,
   "skip_h1_title": false,
   "toc_cell": false,
   "toc_position": {},
   "toc_section_display": "block",
   "toc_window_display": false
  },
  "varInspector": {
   "cols": {
    "lenName": 16,
    "lenType": 16,
    "lenVar": 40
   },
   "kernels_config": {
    "python": {
     "delete_cmd_postfix": "",
     "delete_cmd_prefix": "del ",
     "library": "var_list.py",
     "varRefreshCmd": "print(var_dic_list())"
    },
    "r": {
     "delete_cmd_postfix": ") ",
     "delete_cmd_prefix": "rm(",
     "library": "var_list.r",
     "varRefreshCmd": "cat(var_dic_list()) "
    }
   },
   "types_to_exclude": [
    "module",
    "function",
    "builtin_function_or_method",
    "instance",
    "_Feature"
   ],
   "window_display": false
  }
 },
 "nbformat": 4,
 "nbformat_minor": 1
}
